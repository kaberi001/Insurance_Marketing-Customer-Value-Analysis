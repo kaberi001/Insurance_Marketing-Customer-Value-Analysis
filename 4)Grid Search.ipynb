{
 "cells": [
  {
   "cell_type": "code",
   "execution_count": 1,
   "metadata": {},
   "outputs": [],
   "source": [
    "import pandas as pd\n",
    "import numpy as np\n",
    "import matplotlib.pyplot as plt\n",
    "import seaborn as sns\n",
    "pd.set_option('display.max_rows', None)\n",
    "pd.set_option('display.max_columns', None)\n",
    "from scipy.stats import probplot\n",
    "from sklearn.ensemble import BaggingRegressor,RandomForestRegressor,AdaBoostRegressor\n",
    "from sklearn.linear_model import LinearRegression\n",
    "from scipy.stats import zscore\n",
    "import scipy.stats as stats\n",
    "import math\n",
    "from scipy.stats import ttest_1samp\n",
    "from statsmodels.stats.multicomp import pairwise_tukeyhsd\n",
    "import statsmodels.api         as     sm\n",
    "from   statsmodels.formula.api import ols\n",
    "from   statsmodels.stats.anova import anova_lm \n",
    "from scipy.stats import f_oneway, kruskal, mannwhitneyu , levene, ttest_ind\n",
    "from pingouin import welch_anova\n",
    "import statsmodels.api as sm\n",
    "import numpy as np\n",
    "import pandas as pd\n",
    "import matplotlib.pyplot as plt\n",
    "import seaborn as sns\n",
    "import scipy.stats as stats\n",
    "import statsmodels.api as sm\n",
    "import sklearn.preprocessing as sp\n",
    "import statsmodels.stats.outliers_influence as smof\n",
    "import statsmodels.stats.api as sms\n",
    "import statsmodels.tsa.api as smt\n",
    "from sklearn.model_selection import train_test_split\n",
    "from sklearn.linear_model import LinearRegression\n",
    "from sklearn.linear_model import Lasso, Ridge, LassoCV, RidgeCV\n",
    "from sklearn.metrics import r2_score, mean_squared_error\n",
    "from sklearn.feature_selection import RFE\n",
    "from sklearn.model_selection import KFold, cross_val_score, cross_val_predict,StratifiedKFold\n",
    "from sklearn import model_selection\n",
    "from sklearn.model_selection import GridSearchCV\n",
    "from sklearn.tree import DecisionTreeRegressor\n",
    "from sklearn.neighbors import KNeighborsRegressor\n",
    "import warnings\n",
    "warnings.filterwarnings('ignore')\n",
    "from sklearn.preprocessing import StandardScaler\n",
    "from sklearn.decomposition import PCA\n",
    "import xgboost as xgb\n",
    "from xgboost import XGBRegressor\n",
    "from lightgbm import LGBMRegressor"
   ]
  },
  {
   "cell_type": "code",
   "execution_count": 1,
   "metadata": {},
   "outputs": [
    {
     "name": "stdout",
     "output_type": "stream",
     "text": [
      "Collecting lime\n",
      "  Downloading https://files.pythonhosted.org/packages/27/ee/4aaac4cd79f16329746495aca96f8c35f278b5c774eff3358eaa21e1cbf3/lime-0.2.0.0.tar.gz (274kB)\n",
      "Requirement already satisfied: matplotlib in c:\\users\\kaveri\\anaconda3\\lib\\site-packages (from lime) (3.1.1)\n",
      "Requirement already satisfied: numpy in c:\\users\\kaveri\\anaconda3\\lib\\site-packages (from lime) (1.18.3)\n",
      "Requirement already satisfied: scipy in c:\\users\\kaveri\\anaconda3\\lib\\site-packages (from lime) (1.3.1)\n",
      "Requirement already satisfied: tqdm in c:\\users\\kaveri\\anaconda3\\lib\\site-packages (from lime) (4.36.1)\n",
      "Collecting pillow==5.4.1 (from lime)\n",
      "  Downloading https://files.pythonhosted.org/packages/20/59/edb6fe64a608afc9fd1faf3470774b4131b4be9d40c496b0c144033e249a/Pillow-5.4.1-cp37-cp37m-win_amd64.whl (2.0MB)\n",
      "Requirement already satisfied: scikit-learn>=0.18 in c:\\users\\kaveri\\anaconda3\\lib\\site-packages (from lime) (0.22)\n",
      "Requirement already satisfied: scikit-image>=0.12 in c:\\users\\kaveri\\anaconda3\\lib\\site-packages (from lime) (0.15.0)\n",
      "Requirement already satisfied: cycler>=0.10 in c:\\users\\kaveri\\anaconda3\\lib\\site-packages (from matplotlib->lime) (0.10.0)\n",
      "Requirement already satisfied: kiwisolver>=1.0.1 in c:\\users\\kaveri\\anaconda3\\lib\\site-packages (from matplotlib->lime) (1.1.0)\n",
      "Requirement already satisfied: pyparsing!=2.0.4,!=2.1.2,!=2.1.6,>=2.0.1 in c:\\users\\kaveri\\anaconda3\\lib\\site-packages (from matplotlib->lime) (2.4.2)\n",
      "Requirement already satisfied: python-dateutil>=2.1 in c:\\users\\kaveri\\anaconda3\\lib\\site-packages (from matplotlib->lime) (2.8.0)\n",
      "Requirement already satisfied: joblib>=0.11 in c:\\users\\kaveri\\anaconda3\\lib\\site-packages (from scikit-learn>=0.18->lime) (0.13.2)\n",
      "Requirement already satisfied: PyWavelets>=0.4.0 in c:\\users\\kaveri\\anaconda3\\lib\\site-packages (from scikit-image>=0.12->lime) (1.0.3)\n",
      "Requirement already satisfied: imageio>=2.0.1 in c:\\users\\kaveri\\anaconda3\\lib\\site-packages (from scikit-image>=0.12->lime) (2.6.0)\n",
      "Requirement already satisfied: networkx>=2.0 in c:\\users\\kaveri\\anaconda3\\lib\\site-packages (from scikit-image>=0.12->lime) (2.3)\n",
      "Requirement already satisfied: six in c:\\users\\kaveri\\anaconda3\\lib\\site-packages (from cycler>=0.10->matplotlib->lime) (1.12.0)\n",
      "Requirement already satisfied: setuptools in c:\\users\\kaveri\\anaconda3\\lib\\site-packages (from kiwisolver>=1.0.1->matplotlib->lime) (46.1.3)\n",
      "Requirement already satisfied: decorator>=4.3.0 in c:\\users\\kaveri\\anaconda3\\lib\\site-packages (from networkx>=2.0->scikit-image>=0.12->lime) (4.4.0)\n",
      "Building wheels for collected packages: lime\n",
      "  Building wheel for lime (setup.py): started\n",
      "  Building wheel for lime (setup.py): finished with status 'done'\n",
      "  Created wheel for lime: filename=lime-0.2.0.0-cp37-none-any.whl size=284187 sha256=76d718d1d01d9d4fb51c2158fb07e8c08601ae6ee03c53741f4fa2e9bec77bdc\n",
      "  Stored in directory: C:\\Users\\kaveri\\AppData\\Local\\pip\\Cache\\wheels\\22\\f2\\ec\\e5ebd07348b2b1ac722e91c2f549fcc220f7d5f25497a61232\n",
      "Successfully built lime\n",
      "Installing collected packages: pillow, lime\n",
      "  Found existing installation: Pillow 6.2.0\n",
      "    Uninstalling Pillow-6.2.0:\n",
      "      Successfully uninstalled Pillow-6.2.0\n",
      "Successfully installed lime-0.2.0.0 pillow-5.4.1\n",
      "Note: you may need to restart the kernel to use updated packages.\n"
     ]
    }
   ],
   "source": [
    "pip install lime"
   ]
  },
  {
   "cell_type": "markdown",
   "metadata": {},
   "source": [
    "#### Split data into X and y"
   ]
  },
  {
   "cell_type": "code",
   "execution_count": 4,
   "metadata": {},
   "outputs": [
    {
     "data": {
      "application/javascript": [
       "\n",
       "        if (window._pyforest_update_imports_cell) { window._pyforest_update_imports_cell('import pandas as pd'); }\n",
       "    "
      ],
      "text/plain": [
       "<IPython.core.display.Javascript object>"
      ]
     },
     "metadata": {},
     "output_type": "display_data"
    }
   ],
   "source": [
    "data1=pd.read_csv('Insurance data for model building Final.csv')\n",
    "data1.drop(['Unnamed: 0'],axis=1,inplace=True)\n",
    "X=data1.drop(['Customer Lifetime Value_boxcox'],axis=1)\n",
    "y=data1['Customer Lifetime Value_boxcox']"
   ]
  },
  {
   "cell_type": "code",
   "execution_count": 5,
   "metadata": {},
   "outputs": [],
   "source": [
    "data1.to_csv('test.csv')"
   ]
  },
  {
   "cell_type": "code",
   "execution_count": 9,
   "metadata": {},
   "outputs": [
    {
     "data": {
      "text/html": [
       "<div>\n",
       "<style scoped>\n",
       "    .dataframe tbody tr th:only-of-type {\n",
       "        vertical-align: middle;\n",
       "    }\n",
       "\n",
       "    .dataframe tbody tr th {\n",
       "        vertical-align: top;\n",
       "    }\n",
       "\n",
       "    .dataframe thead th {\n",
       "        text-align: right;\n",
       "    }\n",
       "</style>\n",
       "<table border=\"1\" class=\"dataframe\">\n",
       "  <thead>\n",
       "    <tr style=\"text-align: right;\">\n",
       "      <th></th>\n",
       "      <th>Coverage</th>\n",
       "      <th>Education</th>\n",
       "      <th>EmploymentStatus</th>\n",
       "      <th>Income</th>\n",
       "      <th>Marital Status</th>\n",
       "      <th>Months Since Last Claim</th>\n",
       "      <th>Months Since Policy Inception</th>\n",
       "      <th>Number of Open Complaints</th>\n",
       "      <th>Number of Policies</th>\n",
       "      <th>Renew Offer Type</th>\n",
       "      <th>Vehicle Class</th>\n",
       "      <th>Vehicle Size</th>\n",
       "      <th>Monthly Premium Auto_boxcox</th>\n",
       "      <th>Total Claim Amount_boxcox</th>\n",
       "    </tr>\n",
       "  </thead>\n",
       "  <tbody>\n",
       "    <tr>\n",
       "      <td>1120</td>\n",
       "      <td>0</td>\n",
       "      <td>2</td>\n",
       "      <td>4</td>\n",
       "      <td>45331</td>\n",
       "      <td>0</td>\n",
       "      <td>0</td>\n",
       "      <td>8</td>\n",
       "      <td>0</td>\n",
       "      <td>2</td>\n",
       "      <td>1</td>\n",
       "      <td>2</td>\n",
       "      <td>1</td>\n",
       "      <td>0.68595</td>\n",
       "      <td>40.287772</td>\n",
       "    </tr>\n",
       "  </tbody>\n",
       "</table>\n",
       "</div>"
      ],
      "text/plain": [
       "      Coverage  Education  EmploymentStatus  Income  Marital Status  \\\n",
       "1120         0          2                 4   45331               0   \n",
       "\n",
       "      Months Since Last Claim  Months Since Policy Inception  \\\n",
       "1120                        0                              8   \n",
       "\n",
       "      Number of Open Complaints  Number of Policies  Renew Offer Type  \\\n",
       "1120                          0                   2                 1   \n",
       "\n",
       "      Vehicle Class  Vehicle Size  Monthly Premium Auto_boxcox  \\\n",
       "1120              2             1                      0.68595   \n",
       "\n",
       "      Total Claim Amount_boxcox  \n",
       "1120                  40.287772  "
      ]
     },
     "execution_count": 9,
     "metadata": {},
     "output_type": "execute_result"
    }
   ],
   "source": [
    "X[X['Income']==45331]"
   ]
  },
  {
   "cell_type": "code",
   "execution_count": 7,
   "metadata": {},
   "outputs": [
    {
     "data": {
      "text/plain": [
       "0    2.703839\n",
       "Name: Customer Lifetime Value_boxcox, dtype: float64"
      ]
     },
     "execution_count": 7,
     "metadata": {},
     "output_type": "execute_result"
    }
   ],
   "source": [
    "Coverage\tEducation\tEmploymentStatus\tIncome\tMarital Status\tMonths Since Last Claim\tMonths Since Policy Inception\tNumber of Open Complaints\tNumber of Policies\tRenew Offer Type\tVehicle Class\tVehicle Size\tMonthly Premium Auto_boxcox\tTotal Claim Amount_boxcox\n",
    "0\t2\t4\t45331\t0\t0\t8\t0\t2\t1\t2\t1\t0.6859498767101502\t40.287771937225315\n"
   ]
  },
  {
   "cell_type": "code",
   "execution_count": null,
   "metadata": {},
   "outputs": [],
   "source": [
    "li=['State', 'Response','EmploymentStatus','Marital Status','Number of Open Complaints', 'Number of Policies', 'Policy Type','Gender'\n",
    "       'Policy', 'Renew Offer Type', 'Sales Channel', 'Vehicle Class','Monthly Premium Auto_boxcox','Vehicle Size']\n",
    "    "
   ]
  },
  {
   "cell_type": "markdown",
   "metadata": {},
   "source": [
    "#### Initial level Model Intialization"
   ]
  },
  {
   "cell_type": "code",
   "execution_count": 7,
   "metadata": {},
   "outputs": [
    {
     "data": {
      "application/javascript": [
       "\n",
       "        if (window._pyforest_update_imports_cell) { window._pyforest_update_imports_cell('from sklearn.ensemble import GradientBoostingRegressor'); }\n",
       "    "
      ],
      "text/plain": [
       "<IPython.core.display.Javascript object>"
      ]
     },
     "metadata": {},
     "output_type": "display_data"
    }
   ],
   "source": [
    "DT=DecisionTreeRegressor(random_state=0)\n",
    "LR=LinearRegression()\n",
    "knn=KNeighborsRegressor()\n",
    "RF=RandomForestRegressor(random_state=0)\n",
    "ABR = AdaBoostRegressor(random_state=0)\n",
    "AB_RF = AdaBoostRegressor(base_estimator=RF, random_state=0)\n",
    "AB_DT = AdaBoostRegressor(random_state=0)\n",
    "GBoost=GradientBoostingRegressor(random_state=0)\n",
    "xgbr=XGBRegressor(random_state=0)\n",
    "lgb=LGBMRegressor()"
   ]
  },
  {
   "cell_type": "markdown",
   "metadata": {},
   "source": [
    "#### Now perform grid search for each model"
   ]
  },
  {
   "cell_type": "code",
   "execution_count": 10,
   "metadata": {},
   "outputs": [
    {
     "data": {
      "text/plain": [
       "GridSearchCV(cv=10, error_score=nan,\n",
       "             estimator=GradientBoostingRegressor(alpha=0.9, ccp_alpha=0.0,\n",
       "                                                 criterion='friedman_mse',\n",
       "                                                 init=None, learning_rate=0.1,\n",
       "                                                 loss='ls', max_depth=3,\n",
       "                                                 max_features=None,\n",
       "                                                 max_leaf_nodes=None,\n",
       "                                                 min_impurity_decrease=0.0,\n",
       "                                                 min_impurity_split=None,\n",
       "                                                 min_samples_leaf=1,\n",
       "                                                 min_samples_split=2,\n",
       "                                                 min_weight_fraction_leaf=0.0,\n",
       "                                                 n_estimators=100,\n",
       "                                                 n_iter_...\n",
       "                                                 verbose=0, warm_start=False),\n",
       "             iid='deprecated', n_jobs=None,\n",
       "             param_grid={'n_estimators': array([ 1,  2,  3,  4,  5,  6,  7,  8,  9, 10, 11, 12, 13, 14, 15, 16, 17,\n",
       "       18, 19, 20, 21, 22, 23, 24, 25, 26, 27, 28, 29, 30, 31, 32, 33, 34,\n",
       "       35, 36, 37, 38, 39, 40, 41, 42, 43, 44, 45, 46, 47, 48, 49, 50, 51,\n",
       "       52, 53, 54, 55, 56, 57, 58, 59])},\n",
       "             pre_dispatch='2*n_jobs', refit=True, return_train_score=False,\n",
       "             scoring='neg_mean_squared_error', verbose=0)"
      ]
     },
     "execution_count": 10,
     "metadata": {},
     "output_type": "execute_result"
    }
   ],
   "source": [
    "## Best hyperparamerts for Decision Tree\n",
    "DT_params={'max_depth':np.arange(1,30),'min_samples_leaf':np.arange(2,10),'min_samples_split': np.arange(2,55)}\n",
    "GS_DT=GridSearchCV(DT,DT_params,cv=10,scoring='neg_mean_absolute_error')\n",
    "GS_DT.fit(X,y)\n",
    "## KNN\n",
    "knn=KNeighborsRegressor()\n",
    "knn_params={'n_neighbors':np.arange(3,25),'weights':['uniform','distance']}\n",
    "GS_knn=GridSearchCV(knn,knn_params,cv=10,scoring='neg_mean_squared_error')\n",
    "GS_knn.fit(X,y)\n",
    "## GradientBoostingRegressor\n",
    "GB_params={'n_estimators':np.arange(1,60)}\n",
    "GS_GB=GridSearchCV(GBoost,GB_params,cv=10,scoring='neg_mean_squared_error')\n",
    "GS_GB.fit(X,y)"
   ]
  },
  {
   "cell_type": "markdown",
   "metadata": {},
   "source": [
    "#### Note"
   ]
  },
  {
   "cell_type": "code",
   "execution_count": null,
   "metadata": {},
   "outputs": [],
   "source": [
    "### Below are the paramters that i got yesterday, so, after verifying below ones and the one got from above execution, selected  params will be used in Tran-Test, Crossval,\n",
    "### Decision Tree with best Params\n",
    "DT = DecisionTreeRegressor(max_depth= 22, min_samples_leaf= 5, min_samples_split= 50)\n",
    "### KNNwith best Params\n",
    "knn=knn=KNeighborsRegressor('n_neighbors': 19, 'weights': 'distance')\n"
   ]
  },
  {
   "cell_type": "code",
   "execution_count": null,
   "metadata": {},
   "outputs": [],
   "source": [
    "GS_DT.best_params_ ## "
   ]
  },
  {
   "cell_type": "code",
   "execution_count": 15,
   "metadata": {},
   "outputs": [
    {
     "data": {
      "text/plain": [
       "-0.0008222793288403956"
      ]
     },
     "execution_count": 15,
     "metadata": {},
     "output_type": "execute_result"
    }
   ],
   "source": [
    "GS_knn.best_score_"
   ]
  },
  {
   "cell_type": "code",
   "execution_count": 13,
   "metadata": {},
   "outputs": [
    {
     "data": {
      "text/plain": [
       "{'n_estimators': 59}"
      ]
     },
     "execution_count": 13,
     "metadata": {},
     "output_type": "execute_result"
    }
   ],
   "source": [
    "GS_GB.best_params_"
   ]
  },
  {
   "cell_type": "code",
   "execution_count": 14,
   "metadata": {},
   "outputs": [
    {
     "data": {
      "text/plain": [
       "-5.423099016739065e-05"
      ]
     },
     "execution_count": 14,
     "metadata": {},
     "output_type": "execute_result"
    }
   ],
   "source": [
    "GS_GB.best_score_"
   ]
  },
  {
   "cell_type": "markdown",
   "metadata": {},
   "source": [
    "Best params for below models are to be find out"
   ]
  },
  {
   "cell_type": "code",
   "execution_count": null,
   "metadata": {},
   "outputs": [],
   "source": [
    "## Random Forest\n",
    "RF_params={'n_estimators':np.arange(1,70),'max_depth':np.arange(1,25),'min_samples_leaf':np.arange(2,10),'min_samples_split': np.arange(2,55)}\n",
    "GS_RF=GridSearchCV(RF,RF_params,cv=10,scoring='neg_mean_squared_error')\n",
    "GS_RF.fit(X,y)\n",
    "print(GS_RF.best_score_)\n",
    "print(GS_RF.best_params_)\n",
    "## XG Boost\n",
    "xgbr=XGBRegressor()\n",
    "params={'objective':['reg:squarederror'],\n",
    "              'learning_rate' : [0.0001, 0.001, 0.01, 0.1, 0.2, 0.3], #so called `eta` value\n",
    "              'max_depth': [5, 6, 7],\n",
    "              'min_child_weight': [4],\n",
    "            'n_estimators': [100]}\n",
    "xgb_grid = GridSearchCV(xgbr,params,cv = 10)\n",
    "xgb_grid.fit(X,y)\n",
    "print(xgb_grid.best_score_)\n",
    "print(xgb_grid.best_params_)\n",
    "## LIGHTGBM\n",
    "\n",
    "\n",
    "## Adaboost Regressor with DT\n",
    "search_grid={'n_estimators': np.arange(1,200),'random_state':[1]}\n",
    "GS_ABR=GridSearchCV(estimator=GS_RF_DT,param_grid=search_grid,scoring='neg_mean_squared_error',cv=10)\n",
    "## Adaboost Regressor with RF\n",
    "\n",
    "search_grid={'n_estimators': np.arange(1,200),'random_state':[1]}\n",
    "GS_ABR=GridSearchCV(estimator=ABR,param_grid=search_grid,scoring='neg_mean_squared_error',cv=10)"
   ]
  }
 ],
 "metadata": {
  "kernelspec": {
   "display_name": "Python 3",
   "language": "python",
   "name": "python3"
  },
  "language_info": {
   "codemirror_mode": {
    "name": "ipython",
    "version": 3
   },
   "file_extension": ".py",
   "mimetype": "text/x-python",
   "name": "python",
   "nbconvert_exporter": "python",
   "pygments_lexer": "ipython3",
   "version": "3.8.3"
  }
 },
 "nbformat": 4,
 "nbformat_minor": 2
}
